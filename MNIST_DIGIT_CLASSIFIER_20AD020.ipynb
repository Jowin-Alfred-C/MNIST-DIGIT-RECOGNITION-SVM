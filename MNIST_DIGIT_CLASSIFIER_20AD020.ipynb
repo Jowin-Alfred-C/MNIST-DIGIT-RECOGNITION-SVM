{
  "cells": [
    {
      "cell_type": "markdown",
      "id": "bd6afa94",
      "metadata": {
        "id": "bd6afa94"
      },
      "source": [
        "## Fetching Dataset"
      ]
    },
    {
      "cell_type": "code",
      "execution_count": null,
      "id": "b91a3f35",
      "metadata": {
        "id": "b91a3f35"
      },
      "outputs": [],
      "source": [
        "from sklearn.datasets import fetch_openml\n",
        "mnist = fetch_openml('mnist_784')"
      ]
    },
    {
      "cell_type": "code",
      "execution_count": null,
      "id": "889c5f68",
      "metadata": {
        "id": "889c5f68"
      },
      "outputs": [],
      "source": [
        "x,y = mnist[\"data\"], mnist['target']"
      ]
    },
    {
      "cell_type": "code",
      "execution_count": null,
      "id": "a7d66f9d",
      "metadata": {
        "colab": {
          "base_uri": "https://localhost:8080/"
        },
        "id": "a7d66f9d",
        "outputId": "9dfc5c83-b220-4fc5-94b4-b6eb8fc199c7"
      },
      "outputs": [
        {
          "output_type": "execute_result",
          "data": {
            "text/plain": [
              "(70000, 784)"
            ]
          },
          "metadata": {},
          "execution_count": 8
        }
      ],
      "source": [
        "x.shape"
      ]
    },
    {
      "cell_type": "code",
      "execution_count": null,
      "id": "b84af826",
      "metadata": {
        "colab": {
          "base_uri": "https://localhost:8080/"
        },
        "id": "b84af826",
        "outputId": "6427533f-cef3-483e-808b-ef26e25f133d"
      },
      "outputs": [
        {
          "output_type": "execute_result",
          "data": {
            "text/plain": [
              "(70000,)"
            ]
          },
          "metadata": {},
          "execution_count": 9
        }
      ],
      "source": [
        "y.shape"
      ]
    },
    {
      "cell_type": "code",
      "execution_count": null,
      "id": "91e1fb9e",
      "metadata": {
        "id": "91e1fb9e"
      },
      "outputs": [],
      "source": [
        "%matplotlib inline"
      ]
    },
    {
      "cell_type": "code",
      "execution_count": null,
      "id": "bd0adf74",
      "metadata": {
        "id": "bd0adf74"
      },
      "outputs": [],
      "source": [
        "import matplotlib\n",
        "import matplotlib.pyplot as plt"
      ]
    },
    {
      "cell_type": "code",
      "execution_count": null,
      "id": "811dd341",
      "metadata": {
        "id": "811dd341"
      },
      "outputs": [],
      "source": [
        "import numpy as np\n",
        "some_digit = np.array(x.iloc[36001])\n",
        "some_digit_image = some_digit.reshape(28,28)#lets reshape it to plot it"
      ]
    },
    {
      "cell_type": "code",
      "execution_count": null,
      "id": "e1ba631c",
      "metadata": {
        "colab": {
          "base_uri": "https://localhost:8080/",
          "height": 286
        },
        "id": "e1ba631c",
        "outputId": "be8053d2-cab4-47b5-a921-23fd4d88a785"
      },
      "outputs": [
        {
          "output_type": "execute_result",
          "data": {
            "text/plain": [
              "(-0.5, 27.5, 27.5, -0.5)"
            ]
          },
          "metadata": {},
          "execution_count": 13
        },
        {
          "output_type": "display_data",
          "data": {
            "text/plain": [
              "<Figure size 432x288 with 1 Axes>"
            ],
            "image/png": "[encoded data removed]"
          },
          "metadata": {
            "needs_background": "light"
          }
        }
      ],
      "source": [
        "plt.imshow(some_digit_image, cmap=matplotlib.cm.binary, interpolation=\"nearest\")\n",
        "plt.axis(\"off\")"
      ]
    },
    {
      "cell_type": "code",
      "execution_count": null,
      "id": "ddb2bca2",
      "metadata": {
        "colab": {
          "base_uri": "https://localhost:8080/",
          "height": 57
        },
        "id": "ddb2bca2",
        "outputId": "6675008e-12f9-4196-cdcd-53f72f74e0ea"
      },
      "outputs": [
        {
          "output_type": "execute_result",
          "data": {
            "text/plain": [
              "'2'"
            ],
            "application/vnd.google.colaboratory.intrinsic+json": {
              "type": "string"
            }
          },
          "metadata": {},
          "execution_count": 14
        }
      ],
      "source": [
        "y[36001]"
      ]
    },
    {
      "cell_type": "code",
      "execution_count": null,
      "id": "bc055807",
      "metadata": {
        "id": "bc055807"
      },
      "outputs": [],
      "source": [
        "x_train, x_test = x[:60000], x[60000:70000]"
      ]
    },
    {
      "cell_type": "code",
      "execution_count": null,
      "id": "152f0d9d",
      "metadata": {
        "id": "152f0d9d"
      },
      "outputs": [],
      "source": [
        "y_train, y_test = y[:60000], y[60000:70000]"
      ]
    },
    {
      "cell_type": "code",
      "execution_count": null,
      "id": "1708d156",
      "metadata": {
        "id": "1708d156"
      },
      "outputs": [],
      "source": [
        "shuffle_index = np.random.permutation(60000)\n",
        "x_train = x_train.iloc[shuffle_index]\n",
        "y_train = y_train.iloc[shuffle_index]"
      ]
    },
    {
      "cell_type": "markdown",
      "id": "a3d70f78",
      "metadata": {
        "id": "a3d70f78"
      },
      "source": [
        "## Creating a 2 detector"
      ]
    },
    {
      "cell_type": "code",
      "execution_count": null,
      "id": "22c304b4",
      "metadata": {
        "id": "22c304b4"
      },
      "outputs": [],
      "source": [
        "y_train = y_train.astype(np.int8)\n",
        "y_test = y_test.astype(np.int8)\n",
        "y_train_2 = (y_train == 2)\n",
        "y_test_2 = (y_test == 2)"
      ]
    },
    {
      "cell_type": "code",
      "execution_count": null,
      "id": "f2b51455",
      "metadata": {
        "colab": {
          "base_uri": "https://localhost:8080/"
        },
        "id": "f2b51455",
        "outputId": "c6d6b066-4551-40d5-f775-985ed6316fe0"
      },
      "outputs": [
        {
          "output_type": "execute_result",
          "data": {
            "text/plain": [
              "16935    7\n",
              "53166    9\n",
              "38073    5\n",
              "28198    8\n",
              "11776    5\n",
              "        ..\n",
              "5063     9\n",
              "22085    4\n",
              "20323    6\n",
              "21920    6\n",
              "3676     2\n",
              "Name: class, Length: 60000, dtype: int8"
            ]
          },
          "metadata": {},
          "execution_count": 19
        }
      ],
      "source": [
        "y_train"
      ]
    },
    {
      "cell_type": "code",
      "execution_count": null,
      "id": "6bbd1046",
      "metadata": {
        "id": "6bbd1046"
      },
      "outputs": [],
      "source": [
        "from sklearn.linear_model import LogisticRegression"
      ]
    },
    {
      "cell_type": "code",
      "execution_count": null,
      "id": "a80add7f",
      "metadata": {
        "id": "a80add7f"
      },
      "outputs": [],
      "source": [
        "clf = LogisticRegression(tol = 0.1)"
      ]
    },
    {
      "cell_type": "code",
      "execution_count": null,
      "id": "5cf57528",
      "metadata": {
        "colab": {
          "base_uri": "https://localhost:8080/"
        },
        "id": "5cf57528",
        "outputId": "b6b02133-b21b-495c-cdc0-4ce57a01729d"
      },
      "outputs": [
        {
          "output_type": "stream",
          "name": "stderr",
          "text": [
            "/usr/local/lib/python3.7/dist-packages/sklearn/linear_model/_logistic.py:818: ConvergenceWarning: lbfgs failed to converge (status=1):\n",
            "STOP: TOTAL NO. of ITERATIONS REACHED LIMIT.\n",
            "\n",
            "Increase the number of iterations (max_iter) or scale the data as shown in:\n",
            "    https://scikit-learn.org/stable/modules/preprocessing.html\n",
            "Please also refer to the documentation for alternative solver options:\n",
            "    https://scikit-learn.org/stable/modules/linear_model.html#logistic-regression\n",
            "  extra_warning_msg=_LOGISTIC_SOLVER_CONVERGENCE_MSG,\n"
          ]
        },
        {
          "output_type": "execute_result",
          "data": {
            "text/plain": [
              "LogisticRegression(tol=0.1)"
            ]
          },
          "metadata": {},
          "execution_count": 22
        }
      ],
      "source": [
        "clf.fit(x_train,y_train_2)"
      ]
    },
    {
      "cell_type": "code",
      "execution_count": null,
      "id": "df790bf7",
      "metadata": {
        "colab": {
          "base_uri": "https://localhost:8080/"
        },
        "id": "df790bf7",
        "outputId": "108ffe4b-13f1-4f03-ffaf-2fbd32897528"
      },
      "outputs": [
        {
          "output_type": "stream",
          "name": "stderr",
          "text": [
            "/usr/local/lib/python3.7/dist-packages/sklearn/base.py:451: UserWarning: X does not have valid feature names, but LogisticRegression was fitted with feature names\n",
            "  \"X does not have valid feature names, but\"\n"
          ]
        },
        {
          "output_type": "execute_result",
          "data": {
            "text/plain": [
              "array([ True])"
            ]
          },
          "metadata": {},
          "execution_count": 23
        }
      ],
      "source": [
        "clf.predict([some_digit])"
      ]
    },
    {
      "cell_type": "code",
      "execution_count": null,
      "id": "f6c055bc",
      "metadata": {
        "colab": {
          "base_uri": "https://localhost:8080/"
        },
        "id": "f6c055bc",
        "outputId": "de35b76e-e4b6-499d-fc83-96f31f9a4036"
      },
      "outputs": [
        {
          "output_type": "stream",
          "name": "stderr",
          "text": [
            "/usr/local/lib/python3.7/dist-packages/sklearn/linear_model/_logistic.py:818: ConvergenceWarning: lbfgs failed to converge (status=1):\n",
            "STOP: TOTAL NO. of ITERATIONS REACHED LIMIT.\n",
            "\n",
            "Increase the number of iterations (max_iter) or scale the data as shown in:\n",
            "    https://scikit-learn.org/stable/modules/preprocessing.html\n",
            "Please also refer to the documentation for alternative solver options:\n",
            "    https://scikit-learn.org/stable/modules/linear_model.html#logistic-regression\n",
            "  extra_warning_msg=_LOGISTIC_SOLVER_CONVERGENCE_MSG,\n",
            "/usr/local/lib/python3.7/dist-packages/sklearn/linear_model/_logistic.py:818: ConvergenceWarning: lbfgs failed to converge (status=1):\n",
            "STOP: TOTAL NO. of ITERATIONS REACHED LIMIT.\n",
            "\n",
            "Increase the number of iterations (max_iter) or scale the data as shown in:\n",
            "    https://scikit-learn.org/stable/modules/preprocessing.html\n",
            "Please also refer to the documentation for alternative solver options:\n",
            "    https://scikit-learn.org/stable/modules/linear_model.html#logistic-regression\n",
            "  extra_warning_msg=_LOGISTIC_SOLVER_CONVERGENCE_MSG,\n",
            "/usr/local/lib/python3.7/dist-packages/sklearn/linear_model/_logistic.py:818: ConvergenceWarning: lbfgs failed to converge (status=1):\n",
            "STOP: TOTAL NO. of ITERATIONS REACHED LIMIT.\n",
            "\n",
            "Increase the number of iterations (max_iter) or scale the data as shown in:\n",
            "    https://scikit-learn.org/stable/modules/preprocessing.html\n",
            "Please also refer to the documentation for alternative solver options:\n",
            "    https://scikit-learn.org/stable/modules/linear_model.html#logistic-regression\n",
            "  extra_warning_msg=_LOGISTIC_SOLVER_CONVERGENCE_MSG,\n"
          ]
        }
      ],
      "source": [
        "from sklearn.model_selection import cross_val_score\n",
        "a = cross_val_score(clf, x_train , y_train_2, cv = 3, scoring=\"accuracy\")"
      ]
    },
    {
      "cell_type": "code",
      "execution_count": null,
      "id": "1b7cd888",
      "metadata": {
        "colab": {
          "base_uri": "https://localhost:8080/"
        },
        "id": "1b7cd888",
        "outputId": "7b07b148-e4f3-4b4a-d09f-f022a1287a72"
      },
      "outputs": [
        {
          "output_type": "execute_result",
          "data": {
            "text/plain": [
              "array([0.9778, 0.9797, 0.9773])"
            ]
          },
          "metadata": {},
          "execution_count": 25
        }
      ],
      "source": [
        "a"
      ]
    },
    {
      "cell_type": "code",
      "execution_count": null,
      "id": "2794eccc",
      "metadata": {
        "colab": {
          "base_uri": "https://localhost:8080/"
        },
        "id": "2794eccc",
        "outputId": "1ae545bc-662f-4b1b-856f-9c93a568474f"
      },
      "outputs": [
        {
          "output_type": "execute_result",
          "data": {
            "text/plain": [
              "0.9782666666666667"
            ]
          },
          "metadata": {},
          "execution_count": 26
        }
      ],
      "source": [
        "a.mean()"
      ]
    },
    {
      "cell_type": "markdown",
      "id": "57d2aba5",
      "metadata": {
        "id": "57d2aba5"
      },
      "source": [
        "## K-Nearest Neighbors"
      ]
    },
    {
      "cell_type": "markdown",
      "id": "4156e8e0",
      "metadata": {
        "id": "4156e8e0"
      },
      "source": [
        "## Determining Optimal Number of Neighbors"
      ]
    },
    {
      "cell_type": "markdown",
      "id": "23568857",
      "metadata": {
        "id": "23568857"
      },
      "source": [
        "To detect optimal value for 'K', lets compare the accuracy of KNN models with different 'K' values.\n",
        "\n",
        "By plotting the values in a graph, we can see the performance visually, and select the best performing 'K' value"
      ]
    },
    {
      "cell_type": "code",
      "execution_count": null,
      "id": "b053b458",
      "metadata": {
        "id": "b053b458"
      },
      "outputs": [],
      "source": [
        "from sklearn.neighbors import KNeighborsClassifier\n",
        "from sklearn.metrics import confusion_matrix, accuracy_score\n",
        "import numpy as np\n",
        "import pandas as pd"
      ]
    },
    {
      "cell_type": "code",
      "execution_count": null,
      "id": "5a024d1e",
      "metadata": {
        "id": "5a024d1e"
      },
      "outputs": [],
      "source": [
        "x_train = x_train.to_numpy()\n",
        "x_test = x_test.to_numpy()\n",
        "y_test = y_test.to_numpy()\n",
        "y_train = y_train.to_numpy()"
      ]
    },
    {
      "cell_type": "code",
      "execution_count": null,
      "metadata": {
        "colab": {
          "base_uri": "https://localhost:8080/"
        },
        "id": "JKtQLaig3S4_",
        "outputId": "dd1c2681-65e1-4a5d-eb05-00300fe7588a"
      },
      "outputs": [
        {
          "output_type": "stream",
          "name": "stdout",
          "text": [
            "Begin KNN with k= 1\n",
            "Accuracy:  0.9691\n",
            "Confusion Matrix:\n",
            " [[ 973    1    1    0    0    1    3    1    0    0]\n",
            " [   0 1129    3    0    1    1    1    0    0    0]\n",
            " [   7    6  992    5    1    0    2   16    3    0]\n",
            " [   0    1    2  970    1   19    0    7    7    3]\n",
            " [   0    7    0    0  944    0    3    5    1   22]\n",
            " [   1    1    0   12    2  860    5    1    6    4]\n",
            " [   4    2    0    0    3    5  944    0    0    0]\n",
            " [   0   14    6    2    4    0    0  992    0   10]\n",
            " [   6    1    3   14    5   13    3    4  920    5]\n",
            " [   2    5    1    6   10    5    1   11    1  967]]\n",
            "\n",
            "---------------\n",
            "\n",
            "Begin KNN with k= 2\n",
            "Accuracy:  0.9627\n",
            "Confusion Matrix:\n",
            " [[ 976    1    1    0    0    1    0    1    0    0]\n",
            " [   0 1133    2    0    0    0    0    0    0    0]\n",
            " [  11   10  995    1    2    0    0   12    1    0]\n",
            " [   1    1    8  981    1    9    0    6    2    1]\n",
            " [   3    7    0    0  959    0    2    3    0    8]\n",
            " [   6    2    0   25    2  850    2    1    1    3]\n",
            " [   7    3    0    0    5    4  939    0    0    0]\n",
            " [   0   29    8    2    3    0    0  981    0    5]\n",
            " [  10    2    8   28    9   29    4    5  876    3]\n",
            " [   6    6    3    9   19    4    1   22    2  937]]\n",
            "\n",
            "---------------\n",
            "\n",
            "Begin KNN with k= 3\n",
            "Accuracy:  0.9705\n",
            "Confusion Matrix:\n",
            " [[ 974    1    1    0    0    1    2    1    0    0]\n",
            " [   0 1133    2    0    0    0    0    0    0    0]\n",
            " [  10    9  996    2    0    0    0   13    2    0]\n",
            " [   0    2    4  976    1   13    1    7    3    3]\n",
            " [   1    6    0    0  950    0    4    2    0   19]\n",
            " [   6    1    0   11    2  859    5    1    3    4]\n",
            " [   5    3    0    0    3    3  944    0    0    0]\n",
            " [   0   21    5    0    1    0    0  991    0   10]\n",
            " [   8    2    4   16    8   11    3    4  914    4]\n",
            " [   4    5    2    8    9    2    1    8    2  968]]\n",
            "\n",
            "---------------\n",
            "\n",
            "Begin KNN with k= 4\n",
            "Accuracy:  0.9682\n",
            "Confusion Matrix:\n",
            " [[ 976    1    1    0    0    1    0    1    0    0]\n",
            " [   0 1133    2    0    0    0    0    0    0    0]\n",
            " [  11    8  993    1    1    0    0   16    2    0]\n",
            " [   0    2    5  979    1   10    1    7    2    3]\n",
            " [   3    9    0    0  952    0    4    1    0   13]\n",
            " [   4    0    0   17    2  862    5    1    0    1]\n",
            " [   6    3    0    0    4    3  942    0    0    0]\n",
            " [   0   23    5    0    5    0    0  988    0    7]\n",
            " [   9    3    5   16    6   19    5    5  902    4]\n",
            " [   4    6    3    6   13    4    1   16    1  955]]\n",
            "\n",
            "---------------\n",
            "\n",
            "Begin KNN with k= 5\n",
            "Accuracy:  0.9688\n",
            "Confusion Matrix:\n",
            " [[ 974    1    1    0    0    1    2    1    0    0]\n",
            " [   0 1133    2    0    0    0    0    0    0    0]\n",
            " [  11    8  991    2    1    0    1   15    3    0]\n",
            " [   0    3    3  976    1   13    1    6    3    4]\n",
            " [   3    7    0    0  944    0    4    2    1   21]\n",
            " [   5    0    0   12    2  862    4    1    2    4]\n",
            " [   5    3    0    0    3    2  945    0    0    0]\n",
            " [   0   22    4    0    3    0    0  988    0   11]\n",
            " [   8    3    5   13    6   12    5    5  913    4]\n",
            " [   5    7    3    9    7    3    1   10    2  962]]\n",
            "\n",
            "---------------\n",
            "\n",
            "Begin KNN with k= 6\n",
            "Accuracy:  0.9677\n",
            "Confusion Matrix:\n",
            " [[ 975    1    1    0    0    1    1    1    0    0]\n",
            " [   0 1132    2    0    0    0    1    0    0    0]\n",
            " [  12   11  985    2    1    0    2   15    4    0]\n",
            " [   0    3    3  978    1   10    1    8    3    3]\n",
            " [   2    7    0    0  953    0    4    1    1   14]\n",
            " [   6    0    0   14    2  862    3    1    1    3]\n",
            " [   6    4    0    0    3    2  943    0    0    0]\n",
            " [   0   26    4    0    2    0    0  987    0    9]\n",
            " [   7    4    5   16    8   12    5    6  906    5]\n",
            " [   6    7    3    7   12    3    1   12    2  956]]\n",
            "\n",
            "---------------\n",
            "\n",
            "Begin KNN with k= 7\n",
            "Accuracy:  0.9694\n",
            "Confusion Matrix:\n",
            " [[ 974    1    1    0    0    1    2    1    0    0]\n",
            " [   0 1133    2    0    0    0    0    0    0    0]\n",
            " [  11    8  988    2    1    0    2   16    4    0]\n",
            " [   0    3    2  976    1   12    1    7    4    4]\n",
            " [   1    8    0    0  945    0    5    1    1   21]\n",
            " [   5    0    0    8    2  866    4    1    2    4]\n",
            " [   6    3    0    0    3    2  944    0    0    0]\n",
            " [   0   25    3    0    1    0    0  989    0   10]\n",
            " [   6    4    6   11    7   12    1    6  916    5]\n",
            " [   5    6    3    6    8    4    1   11    2  963]]\n",
            "\n",
            "---------------\n",
            "\n",
            "Begin KNN with k= 8\n",
            "Accuracy:  0.967\n",
            "Confusion Matrix:\n",
            " [[ 973    1    1    0    0    1    3    1    0    0]\n",
            " [   0 1132    2    0    0    0    1    0    0    0]\n",
            " [  13   14  980    2    1    0    2   16    4    0]\n",
            " [   0    3    2  976    1   12    1    7    4    4]\n",
            " [   2   11    0    0  943    0    5    1    1   19]\n",
            " [   5    0    0    9    2  868    4    1    1    2]\n",
            " [   6    4    0    0    3    2  943    0    0    0]\n",
            " [   0   28    4    0    2    0    0  985    0    9]\n",
            " [   6    5    4   14    8   13    3    7  910    4]\n",
            " [   7    7    2    7   11    3    1    9    2  960]]\n",
            "\n",
            "---------------\n",
            "\n"
          ]
        }
      ],
      "source": [
        "score = []\n",
        "\n",
        "for k in range(1, 9):\n",
        "  print('Begin KNN with k=',k)\n",
        "  classifier = KNeighborsClassifier(n_neighbors=k)\n",
        "  classifier = classifier.fit(x_train.reshape(x_train.shape[0], 28*28), y_train)\n",
        "  pred = classifier.predict(x_test.reshape(x_test.shape[0], 28*28))\n",
        "  accuracy = accuracy_score(y_test, pred)\n",
        "  score.append(accuracy)\n",
        "  print(\"Accuracy: \",accuracy)\n",
        "  print(\"Confusion Matrix:\\n\", confusion_matrix(y_test, pred))\n",
        "  print(\"\\n---------------\\n\")"
      ],
      "id": "JKtQLaig3S4_"
    },
    {
      "cell_type": "code",
      "execution_count": null,
      "metadata": {
        "colab": {
          "base_uri": "https://localhost:8080/",
          "height": 316
        },
        "id": "vT-lsTck3S4_",
        "outputId": "b54658bc-8d0d-40ba-d93d-f81671964a5e"
      },
      "outputs": [
        {
          "output_type": "display_data",
          "data": {
            "text/plain": [
              "<Figure size 432x288 with 1 Axes>"
            ],
            "image/png": "[encoded data removed]"
          },
          "metadata": {
            "needs_background": "light"
          }
        }
      ],
      "source": [
        "plt.plot(range(1,9), score)\n",
        "plt.title('Determining the Optimal Number of Neighbors')\n",
        "plt.xlabel('K - Number of Neighbors')\n",
        "plt.ylabel('Accuracy')\n",
        "plt.show()"
      ],
      "id": "vT-lsTck3S4_"
    },
    {
      "cell_type": "markdown",
      "id": "aaa010d8",
      "metadata": {
        "id": "aaa010d8"
      },
      "source": [
        "Values of K, and performance\n",
        "\n",
        "K = 1, accuracy = 96.91\n",
        "k = 2, accuracy = 96.27\n",
        "k = 3, accuracy = 97.05\n",
        "k = 4, accuracy = 96.82\n",
        "k = 5, accuracy = 96.88\n",
        "k = 6, accuracy = 96.77\n",
        "k = 7, accuracy = 96.94\n",
        "k = 8, accuracy = 96.70\n",
        "Looking at the performance scores, K=1 might seem the most promising model as it has the highest accuracy.\n",
        "\n",
        "But pragmatically, trying to predict a datapoint based on only one neighbor is definitely not a better choice to make. So, it's a wise choice to ignore the option.\n",
        "\n",
        "There is a huge dip in performance for K=2, and a steep increase when the neighbors are increased to 3.\n",
        "\n",
        "The performance curve decreases for K=4, and stays same for k=5.\n",
        "\n",
        "It's upto us to choose either 3 or 7 for our requirement."
      ]
    },
    {
      "cell_type": "markdown",
      "id": "e55a9cc8",
      "metadata": {
        "id": "e55a9cc8"
      },
      "source": [
        "## Testing the model"
      ]
    },
    {
      "cell_type": "code",
      "execution_count": null,
      "id": "dae23d52",
      "metadata": {
        "id": "dae23d52"
      },
      "outputs": [],
      "source": [
        "x = x.to_numpy()\n",
        "y = y.to_numpy()"
      ]
    },
    {
      "cell_type": "code",
      "execution_count": null,
      "id": "9e71adc6",
      "metadata": {
        "colab": {
          "base_uri": "https://localhost:8080/"
        },
        "id": "9e71adc6",
        "outputId": "6f92db09-e65d-4961-f7de-cb0be27998b2"
      },
      "outputs": [
        {
          "output_type": "stream",
          "name": "stdout",
          "text": [
            "Training the Model\n",
            "CPU times: user 134 ms, sys: 1.03 ms, total: 135 ms\n",
            "Wall time: 139 ms\n"
          ]
        }
      ],
      "source": [
        "%%time\n",
        "print('Training the Model')\n",
        "classifier = KNeighborsClassifier(n_neighbors=3)\n",
        "classifier = classifier.fit(x.reshape(x.shape[0], 28*28), y)"
      ]
    },
    {
      "cell_type": "code",
      "execution_count": null,
      "id": "90d0cf91",
      "metadata": {
        "colab": {
          "base_uri": "https://localhost:8080/"
        },
        "id": "90d0cf91",
        "outputId": "a4b0e14f-6c1f-4c7f-c327-4f9f895b5f24"
      },
      "outputs": [
        {
          "output_type": "stream",
          "name": "stdout",
          "text": [
            "CPU times: user 1min 6s, sys: 1.22 s, total: 1min 7s\n",
            "Wall time: 38.9 s\n"
          ]
        }
      ],
      "source": [
        "%%time\n",
        "y_pred = classifier.predict(x_test.reshape(x_test.shape[0], 28*28))"
      ]
    },
    {
      "cell_type": "code",
      "execution_count": null,
      "id": "9cb46b09",
      "metadata": {
        "id": "9cb46b09"
      },
      "outputs": [],
      "source": [
        "y_pred = y_pred.astype(np.int32)"
      ]
    },
    {
      "cell_type": "code",
      "execution_count": null,
      "id": "ef0d0bc2",
      "metadata": {
        "colab": {
          "base_uri": "https://localhost:8080/"
        },
        "id": "ef0d0bc2",
        "outputId": "8f574bc5-8fb1-4205-eb77-6c80b757e851"
      },
      "outputs": [
        {
          "output_type": "stream",
          "name": "stdout",
          "text": [
            "[[ 977    1    1    0    0    0    0    1    0    0]\n",
            " [   0 1133    2    0    0    0    0    0    0    0]\n",
            " [   4    2 1016    0    0    0    1    8    1    0]\n",
            " [   1    0    1 1000    0    4    0    4    0    0]\n",
            " [   0    3    0    0  968    0    3    2    0    6]\n",
            " [   2    0    0    3    1  880    2    1    1    2]\n",
            " [   4    2    0    0    2    2  948    0    0    0]\n",
            " [   0   10    4    1    0    0    0 1009    0    4]\n",
            " [   4    0    3    8    3    6    2    2  944    2]\n",
            " [   2    1    0    3    4    3    1    4    0  991]]\n",
            "0.9866\n"
          ]
        }
      ],
      "source": [
        "print(confusion_matrix(y_test, y_pred))\n",
        "print(accuracy_score(y_test, y_pred))"
      ]
    },
    {
      "cell_type": "code",
      "execution_count": null,
      "id": "7c5b6734",
      "metadata": {
        "colab": {
          "base_uri": "https://localhost:8080/",
          "height": 180
        },
        "id": "7c5b6734",
        "outputId": "6da90148-b671-4b83-df02-fd6b51a3c41f"
      },
      "outputs": [
        {
          "output_type": "execute_result",
          "data": {
            "text/plain": [
              "'              precision    recall  f1-score   support\\n\\n           0       1.00      0.98      0.99       994\\n           1       1.00      0.98      0.99      1152\\n           2       0.98      0.99      0.99      1027\\n           3       0.99      0.99      0.99      1015\\n           4       0.99      0.99      0.99       978\\n           5       0.99      0.98      0.98       895\\n           6       0.99      0.99      0.99       957\\n           7       0.98      0.98      0.98      1031\\n           8       0.97      1.00      0.98       946\\n           9       0.98      0.99      0.98      1005\\n\\n    accuracy                           0.99     10000\\n   macro avg       0.99      0.99      0.99     10000\\nweighted avg       0.99      0.99      0.99     10000\\n'"
            ],
            "application/vnd.google.colaboratory.intrinsic+json": {
              "type": "string"
            }
          },
          "metadata": {},
          "execution_count": 36
        }
      ],
      "source": [
        "from sklearn.metrics import classification_report\n",
        "classification_report(y_pred, y_test)"
      ]
    },
    {
      "cell_type": "markdown",
      "id": "7aad0555",
      "metadata": {
        "id": "7aad0555"
      },
      "source": [
        "## SVM Classification"
      ]
    },
    {
      "cell_type": "code",
      "execution_count": null,
      "id": "e262e192",
      "metadata": {
        "id": "e262e192"
      },
      "outputs": [],
      "source": [
        "from sklearn.svm import SVC\n",
        "classifier2 = SVC()"
      ]
    },
    {
      "cell_type": "code",
      "execution_count": null,
      "id": "fea6a877",
      "metadata": {
        "id": "fea6a877"
      },
      "outputs": [],
      "source": [
        "classifier2 = classifier2.fit(x.reshape(x.shape[0], 28*28), y)\n",
        "y_pred2 = classifier2.predict(x_test.reshape(x_test.shape[0],28*28))\n"
      ]
    },
    {
      "cell_type": "markdown",
      "id": "983d302e",
      "metadata": {
        "id": "983d302e"
      },
      "source": [
        "## Predict"
      ]
    },
    {
      "cell_type": "code",
      "execution_count": null,
      "id": "a9dc0a2d",
      "metadata": {
        "colab": {
          "base_uri": "https://localhost:8080/"
        },
        "id": "a9dc0a2d",
        "outputId": "4e4f4af4-fbef-48a9-8a0b-6d4572e3afe9"
      },
      "outputs": [
        {
          "output_type": "stream",
          "name": "stdout",
          "text": [
            "              precision    recall  f1-score   support\n",
            "\n",
            "           0       0.99      0.99      0.99       980\n",
            "           1       0.99      1.00      1.00      1135\n",
            "           2       0.99      0.99      0.99      1032\n",
            "           3       0.99      0.99      0.99      1010\n",
            "           4       0.99      0.99      0.99       982\n",
            "           5       0.99      0.99      0.99       892\n",
            "           6       1.00      0.99      0.99       958\n",
            "           7       0.99      0.99      0.99      1028\n",
            "           8       0.99      0.99      0.99       974\n",
            "           9       0.99      0.98      0.98      1009\n",
            "\n",
            "    accuracy                           0.99     10000\n",
            "   macro avg       0.99      0.99      0.99     10000\n",
            "weighted avg       0.99      0.99      0.99     10000\n",
            "\n"
          ]
        }
      ],
      "source": [
        "y_pred2 = y_pred2.astype(np.int32)\n",
        "print(classification_report(y_test, y_pred2))"
      ]
    },
    {
      "cell_type": "code",
      "execution_count": null,
      "id": "ca7fc94a",
      "metadata": {
        "colab": {
          "base_uri": "https://localhost:8080/"
        },
        "id": "ca7fc94a",
        "outputId": "02aa7449-565c-4d3a-da40-7435f755c354"
      },
      "outputs": [
        {
          "output_type": "execute_result",
          "data": {
            "text/plain": [
              "array([[ 975,    0,    1,    0,    0,    1,    0,    1,    2,    0],\n",
              "       [   0, 1133,    0,    0,    0,    1,    0,    0,    1,    0],\n",
              "       [   1,    0, 1024,    0,    1,    0,    0,    4,    2,    0],\n",
              "       [   0,    0,    0, 1002,    0,    2,    0,    3,    3,    0],\n",
              "       [   0,    0,    0,    0,  975,    0,    1,    0,    0,    6],\n",
              "       [   2,    0,    0,    2,    0,  885,    2,    0,    0,    1],\n",
              "       [   2,    2,    0,    0,    2,    2,  949,    0,    1,    0],\n",
              "       [   0,    4,    4,    1,    0,    0,    0, 1015,    0,    4],\n",
              "       [   0,    0,    2,    2,    1,    2,    1,    1,  965,    0],\n",
              "       [   1,    3,    0,    4,    8,    2,    0,    3,    0,  988]])"
            ]
          },
          "metadata": {},
          "execution_count": 40
        }
      ],
      "source": [
        "confusion_matrix(y_test, y_pred2)"
      ]
    },
    {
      "cell_type": "markdown",
      "id": "74b9c6ef",
      "metadata": {
        "id": "74b9c6ef"
      },
      "source": [
        "## Results"
      ]
    },
    {
      "cell_type": "markdown",
      "id": "da2a3d8e",
      "metadata": {
        "id": "da2a3d8e"
      },
      "source": [
        "KNN Model with 3 neighbors performed really well with 98.66% accuracy."
      ]
    },
    {
      "cell_type": "code",
      "execution_count": null,
      "id": "c91af524",
      "metadata": {
        "colab": {
          "base_uri": "https://localhost:8080/"
        },
        "id": "c91af524",
        "outputId": "5413bbaf-a4ff-4d55-e509-b7ab0b4929f3"
      },
      "outputs": [
        {
          "output_type": "execute_result",
          "data": {
            "text/plain": [
              "['knn_model.gzip']"
            ]
          },
          "metadata": {},
          "execution_count": 41
        }
      ],
      "source": [
        "import joblib\n",
        "\n",
        "joblib.dump(classifier, 'knn_model.gzip', compress=('gzip',3))"
      ]
    },
    {
      "cell_type": "code",
      "execution_count": null,
      "id": "25bc3498",
      "metadata": {
        "colab": {
          "base_uri": "https://localhost:8080/"
        },
        "id": "25bc3498",
        "outputId": "d129a0bf-c690-40fd-a234-0d204b61eb27"
      },
      "outputs": [
        {
          "output_type": "execute_result",
          "data": {
            "text/plain": [
              "['SVC_model.gzip']"
            ]
          },
          "metadata": {},
          "execution_count": 42
        }
      ],
      "source": [
        "joblib.dump(classifier2, 'SVC_model.gzip', compress=('gzip',3))"
      ]
    }
  ],
  "metadata": {
    "kernelspec": {
      "display_name": "Python 3 (ipykernel)",
      "language": "python",
      "name": "python3"
    },
    "language_info": {
      "codemirror_mode": {
        "name": "ipython",
        "version": 3
      },
      "file_extension": ".py",
      "mimetype": "text/x-python",
      "name": "python",
      "nbconvert_exporter": "python",
      "pygments_lexer": "ipython3",
      "version": "3.9.7"
    },
    "colab": {
      "name": "MNIST_DIGIT CLASSIFIER 20AD020.ipynb",
      "provenance": [],
      "collapsed_sections": [
        "57d2aba5"
      ]
    }
  },
  "nbformat": 4,
  "nbformat_minor": 5
}